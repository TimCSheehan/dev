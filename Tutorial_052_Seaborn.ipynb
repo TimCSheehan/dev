{
 "cells": [
  {
   "cell_type": "markdown",
   "metadata": {},
   "source": [
    "# Tutorial 05, Part 1: Quick intro to visualization Seaborn (and Matplotlib)\n",
    "* Goal: Read in some real data in a format you frequently encounter (in this case from a Matlab .mat file), get the format into a good place, clean up the data set and get it ready, do some basic analyses and visualization using Seaborn"
   ]
  },
  {
   "cell_type": "markdown",
   "metadata": {},
   "source": [
    "## Overview of Seaborn\n",
    "* \n",
    "* \n",
    "* "
   ]
  },
  {
   "cell_type": "markdown",
   "metadata": {},
   "source": [
    "## Imports"
   ]
  },
  {
   "cell_type": "markdown",
   "metadata": {},
   "source": [
    "## 'Real life' example of basic data exploration/cleaning/formatting and then visualization\n",
    "* Import a Matlab .mat file\n",
    "* Deal with the quirks of the data after the import (e.g. it comes in as a list of lists...not the most intutive format to work with). \n",
    "* Deal with missing values, NaNs, and outliers\n",
    "* Do some basic summary stats and plotting"
   ]
  }
 ],
 "metadata": {
  "kernelspec": {
   "display_name": "Python 3",
   "language": "python",
   "name": "python3"
  },
  "language_info": {
   "codemirror_mode": {
    "name": "ipython",
    "version": 3
   },
   "file_extension": ".py",
   "mimetype": "text/x-python",
   "name": "python",
   "nbconvert_exporter": "python",
   "pygments_lexer": "ipython3",
   "version": "3.6.6"
  }
 },
 "nbformat": 4,
 "nbformat_minor": 2
}
