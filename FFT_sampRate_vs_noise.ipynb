{
 "cells": [
  {
   "cell_type": "markdown",
   "metadata": {},
   "source": [
    "# demonstrate why going to higher samp rates is good in the presence of noise"
   ]
  },
  {
   "cell_type": "code",
   "execution_count": 1,
   "metadata": {},
   "outputs": [],
   "source": [
    "# general libs we'll use\n",
    "import numpy as np\n",
    "from numpy import pi\n",
    "import matplotlib.pyplot as plt\n",
    "\n",
    "# also define the default font we'll use for figures. \n",
    "fig_font = {'fontname':'Arial', 'size':'20'}"
   ]
  },
  {
   "cell_type": "markdown",
   "metadata": {},
   "source": [
    "## here pick a fixed temporal interval and a fixed noise level and look at variability of amplitude estimates as a function of sampling rate. Note that frequency resolution does not change as a function of sample rate (just the max freq that can be estimated changes - see notes below right before the first 'for' loop). However, even though freq resolution doesn't change as samp rate gets higher you will be better able to more reliably  recover the amplitude of an oscillation in the presence of noise. You can think about this as a curve fitting problem - the more points you have to fit the more stable your fit is going to be.   "
   ]
  },
  {
   "cell_type": "code",
   "execution_count": 2,
   "metadata": {},
   "outputs": [
    {
     "name": "stdout",
     "output_type": "stream",
     "text": [
      "Frequency resolution at each samp rate:  [0.5 0.5 0.5 0.5 0.5 0.5 0.5]\n"
     ]
    },
    {
     "data": {
      "image/png": "[encoded data removed]",
      "text/plain": [
       "<Figure size 432x288 with 1 Axes>"
      ]
     },
     "metadata": {},
     "output_type": "display_data"
    }
   ],
   "source": [
    "sr = np.array([64, 128, 256, 512, 1024, 2048, 4096])  # samp rate in Hz\n",
    "f = 24                          # frequency of signal \n",
    "tmax = 2                        # duration of signal, in s\n",
    "dt = 1/sr                       # time step, reciprocal of the sr\n",
    "noise_amp = 10                  # amplitude of additive IID noise (this is actually 2*amp of noise)\n",
    "num_iterations = 500            # how many times to loop to eval impact of noise as a function of \n",
    "\n",
    "# little note on frequency resolution - function of number of data samples and sample rate\n",
    "num_data_samps = sr * tmax      # just samp rate * how many seconds of data\n",
    "# freq resolution...note that the ONLY thing that increases freq resolution is more time!\n",
    "# for a fixed amount of time the increase in sr and the length of data scale proportionally. \n",
    "fstepSz = sr / num_data_samps   \n",
    "print('Frequency resolution at each samp rate: ', fstepSz)\n",
    "\n",
    "# allocate arrray to store amp at target frequency f\n",
    "amp = np.zeros((num_iterations,len(sr)))\n",
    "\n",
    "# loop over iterations to get an estimate of variaiblity of amp estimates at a given noise level. \n",
    "for j in range(num_iterations):\n",
    "    \n",
    "    # then loop over sample rates...\n",
    "    for i in range(len(sr)):\n",
    "        t = np.arange(0,tmax,dt[i])        # time axis\n",
    "\n",
    "        # make a sin wave\n",
    "        sw = np.sin(2*pi*f*t) \n",
    "\n",
    "        # add some noise. \n",
    "        sw = sw + (np.random.rand((len(sw))) - .5) * noise_amp\n",
    "\n",
    "        # FFT, with * dt to normalize the amplitude for number of samples in timeseries  \n",
    "        # sp = np.fft.rfft(sw) * dt[i]     \n",
    "        sp = (np.abs(np.fft.rfft(sw)) / len(sw)) * 2\n",
    "\n",
    "        # get your freq axis\n",
    "        freq = np.fft.rfftfreq(sw.size, dt[i])        \n",
    "\n",
    "        # find the nearest value to your target frequency (in this first example it should always be spot on)\n",
    "        ind = np.argmin(np.abs(f-freq))\n",
    "\n",
    "        amp[j,i] = sp[ind]\n",
    "\n",
    "mean_amp = np.mean(amp,0)\n",
    "std_amp = np.std(amp,0)\n",
    "plt.errorbar(sr, mean_amp, std_amp)\n",
    "plt.xlabel('Sampling Rate', **fig_font)\n",
    "plt.ylabel('Estimated Amplitude', **fig_font)\n",
    "plt.show()"
   ]
  }
 ],
 "metadata": {
  "kernelspec": {
   "display_name": "Python 3",
   "language": "python",
   "name": "python3"
  },
  "language_info": {
   "codemirror_mode": {
    "name": "ipython",
    "version": 3
   },
   "file_extension": ".py",
   "mimetype": "text/x-python",
   "name": "python",
   "nbconvert_exporter": "python",
   "pygments_lexer": "ipython3",
   "version": "3.6.5"
  }
 },
 "nbformat": 4,
 "nbformat_minor": 2
}
