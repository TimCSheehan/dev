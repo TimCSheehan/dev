{
 "cells": [
  {
   "cell_type": "markdown",
   "metadata": {},
   "source": [
    "# Permutation (randomization) and bootstrapping...non-parametraic statistics. "
   ]
  },
  {
   "cell_type": "markdown",
   "metadata": {},
   "source": [
    "## Developing test statistics and their distributions\n",
    "In parametric NHT stats, we assume that there is some distribution (e.g. a t-distribution) that tracks the true population distribution given a fixed sample size. Then we make a few measurements from our sample population and we see how likely our measurement is compared to this hypothetical population distribution. \n",
    "\n",
    "Why do we make this comparison of our sample mean against some hypothetical function (t-distribution)? Why not just collect our data, and if we collect enough of it, then we can just directly evaluate our confidence in the summary mean (and also differences between conditions) without resorting to comparing with hypothetical distributions...and we can do this using just the data we have in hand (assuming a few basic conditions are met). This seems like a good idea, and given that resampling methods are increasingly computationally tractable its almost always a better choice."
   ]
  },
  {
   "cell_type": "markdown",
   "metadata": {},
   "source": [
    "## Randomization tests\n",
    "In a typical study, you collect data from two groups (or more) and then\n",
    "you want to decide if the two group means are different given the separation \n",
    "of their means and their variances. So you compute the differences\n",
    "between the means, weight that difference by the variance, and then\n",
    "compare that test statistic again a standard look up table (e.g. a\n",
    "t-distribution or similar) to get a p-value.  \n",
    "This standard approach makes a number of assumptions:\n",
    "* The data are normally distributed so that the test stat follows the expected distribution (i.e. a t-distribution)\n",
    "* that we have taken truly random samples from the population(s) so that we can genearlize our results to the entire population\n",
    "* The normal null hypothesis that mu1=mu2 based on where the difference between means falls against a standard statistic distribution (like the t-table). As the result of assumptions 1 and 2, we are then supposed  to infer that if we get a p<0.05 (or whatever the magic number is), then we can make an inference about the entire population (i.e. *inferential* stat).\n",
    "\n",
    "In contrast, *RANDOMIZATION TESTING* does away with most of these assumptions in place of a different approach.\n",
    "* We do not need normally distributed data, etc. In fact, we rarely seem to meet these conditions in real data anyway, so this is a pretty handy thing.\n",
    "* We are not interested in making population inferences or accuractely estimate population means/std etc (see bootstrapping section below for that)  \n",
    "\n",
    "The test statistic that we generate is not compared to a standard look up table - instead we generate our own 'null' distribution against which to compare the data that we actually observe with the goal of evaluating the propbability of observing a mean difference of X given that our condition labels (or our manipulation) had no effect. Under this null, the data could equally likely have come from either distribution, and this is the null hypothesis that we are often actually testing."
   ]
  },
  {
   "cell_type": "markdown",
   "metadata": {},
   "source": [
    "## Import our standard numpy and plotting stuff...also stats from scipy"
   ]
  },
  {
   "cell_type": "code",
   "execution_count": 1,
   "metadata": {},
   "outputs": [],
   "source": [
    "import numpy as np\n",
    "from scipy import stats\n",
    "import matplotlib.pyplot as plt"
   ]
  },
  {
   "cell_type": "markdown",
   "metadata": {},
   "source": [
    "## Start by generating some fake data from two experimental conditions. "
   ]
  },
  {
   "cell_type": "code",
   "execution_count": 79,
   "metadata": {},
   "outputs": [
    {
     "data": {
      "image/png": "[encoded data removed]",
      "text/plain": [
       "<matplotlib.figure.Figure at 0x230224a5a20>"
      ]
     },
     "metadata": {},
     "output_type": "display_data"
    },
    {
     "name": "stdout",
     "output_type": "stream",
     "text": [
      "t-value:  2.39  p-value:  0.0185622\n"
     ]
    }
   ],
   "source": [
    "N = 100                      # number of data points (or 'subjects')\n",
    "mu_of_conditions = 1.1,1     # means of each distribution\n",
    "var_of_conditions = 1,1      # variance of each distribution - start with equal variance\n",
    "\n",
    "# then use random.randn to generate two data sets with specified \n",
    "d1 = (np.random.randn(N,) * var_of_conditions[0]) + mu_of_conditions[0]\n",
    "d2 = (np.random.randn(N,) * var_of_conditions[1]) + mu_of_conditions[1]\n",
    "\n",
    "# histogram to show the data. Use alpha value to set transparency so that you can see overlap \n",
    "plt.hist(d1, color='r', alpha=.5)\n",
    "plt.hist(d2, color='g', alpha=.5)\n",
    "plt.xlabel('Data')\n",
    "plt.ylabel('Count')\n",
    "plt.show()\n",
    "\n",
    "t_val = stats.ttest_rel(d1,d2)\n",
    "print('t-value: ', np.round(t_val.statistic,2), ' p-value: ', np.round(t_val.pvalue,8))"
   ]
  },
  {
   "cell_type": "markdown",
   "metadata": {},
   "source": [
    "## now generate a set of t-values across repeated iterations of this 'study'"
   ]
  },
  {
   "cell_type": "code",
   "execution_count": 65,
   "metadata": {
    "scrolled": true
   },
   "outputs": [
    {
     "data": {
      "image/png": "[encoded data removed]",
      "text/plain": [
       "<matplotlib.figure.Figure at 0x2302103d908>"
      ]
     },
     "metadata": {},
     "output_type": "display_data"
    }
   ],
   "source": [
    "N = 100                      # number of data points (or 'subjects')\n",
    "mu_of_conditions = 1.1,1      # means of each distribution\n",
    "var_of_conditions = 1,1     # variance of each distribution - start with equal variance, then make unequal\n",
    "\n",
    "# number of repeats of the study\n",
    "num_studies = 1000\n",
    "\n",
    "# allocate array for storing t-values\n",
    "study_t_val = np.zeros(num_studies)\n",
    "\n",
    "for i in np.arange(num_studies):\n",
    "    # then use random.randn to generate two data sets with specified \n",
    "    d1 = (np.random.randn(N,) * var_of_conditions[0]) + mu_of_conditions[0]\n",
    "    d2 = (np.random.randn(N,) * var_of_conditions[1]) + mu_of_conditions[1]\n",
    "\n",
    "    t_val = stats.ttest_rel(d1,d2)\n",
    "    \n",
    "    # store the t-value each time...\n",
    "    study_t_val[i] = t_val.statistic\n",
    "    \n",
    "# histogram to show the data. \n",
    "# can specify the number of bins to use in the call to plt.hist\n",
    "plt.hist(study_t_val, color='r', alpha=1, bins=30)\n",
    "plt.xlabel('T-value')\n",
    "plt.ylabel('Count')\n",
    "plt.show()    "
   ]
  },
  {
   "cell_type": "markdown",
   "metadata": {},
   "source": [
    "## now do this the faster, numpy way...ditch the loop"
   ]
  },
  {
   "cell_type": "code",
   "execution_count": 89,
   "metadata": {},
   "outputs": [
    {
     "data": {
      "image/png": "[encoded data removed]",
      "text/plain": [
       "<matplotlib.figure.Figure at 0x2302248e668>"
      ]
     },
     "metadata": {},
     "output_type": "display_data"
    }
   ],
   "source": [
    "N = 100                     # number of data points (or 'subjects')\n",
    "mu_of_conditions = 1.1,1      # means of each distribution\n",
    "var_of_conditions = 1,1     # variance of each distribution - start with equal variance, then make unequal\n",
    "\n",
    "# number of times we repeat the study\n",
    "num_studies = 10000\n",
    "\n",
    "# then use random.randn to generate two data sets with specified \n",
    "# instead of looping generate a N x num_studies matrix all at once \n",
    "d1 = (np.random.randn(N,num_studies) * var_of_conditions[0]) + mu_of_conditions[0]\n",
    "d2 = (np.random.randn(N,num_studies) * var_of_conditions[1]) + mu_of_conditions[1]\n",
    "\n",
    "# do the t-test on all columns of data (i.e. across rows, or across the first dim)\n",
    "t_val = stats.ttest_rel(d1,d2,axis=0)\n",
    "    \n",
    "# store the t-value each time...\n",
    "study_t_val = t_val.statistic       \n",
    "    \n",
    "# histogram to show the data. Use alpha value to set transparency so that you can see overlap \n",
    "plt.hist(study_t_val, color='r', alpha=1, bins=30)\n",
    "plt.xlabel('T-value')\n",
    "plt.ylabel('Count')\n",
    "plt.show()    "
   ]
  },
  {
   "cell_type": "markdown",
   "metadata": {},
   "source": [
    "## Now start doing this with a randomization test\n",
    "* Start: we'll generate only one set of experimental data\n",
    "* Then we'll compute and store the t-value"
   ]
  },
  {
   "cell_type": "code",
   "execution_count": 115,
   "metadata": {},
   "outputs": [
    {
     "name": "stdout",
     "output_type": "stream",
     "text": [
      "Tval:  [ 3.97118942] Pval:  [ 0.00013572]\n"
     ]
    }
   ],
   "source": [
    "N = 100                      # number of data points (or 'subjects')\n",
    "mu_of_conditions = 1.5,1       # means of each distribution\n",
    "var_of_conditions = 1,1      # variance of each distribution - start with equal variance, then make unequal\n",
    "\n",
    "# number of times we repeat the the study - set to 1 for this demo of the randomization test\n",
    "# as if you just collected your data set and then you're sitting down to do the stats. \n",
    "num_studies = 1\n",
    "\n",
    "# make our data sets\n",
    "d1 = (np.random.randn(N,num_studies) * var_of_conditions[0]) + mu_of_conditions[0]\n",
    "d2 = (np.random.randn(N,num_studies) * var_of_conditions[1]) + mu_of_conditions[1]\n",
    "\n",
    "# do the t-test on all columns of data\n",
    "# will write out the formula for the t-test here because it will make the randomization code \n",
    "# easier to understand: mean difference divided by the S.E. of the difference\n",
    "study_t_val = np.mean(d1-d2, axis=0) / (np.std(d1-d2, axis=0) / np.sqrt(N-1))\n",
    "\n",
    "# compute our p-value using stats.t.cdf\n",
    "p_value = 2*(1-stats.t.cdf(study_t_val, N-1))\n",
    "\n",
    "# print out our test statistic and our p-value\n",
    "print('Tval: ', study_t_val, 'Pval: ', p_value)"
   ]
  },
  {
   "cell_type": "markdown",
   "metadata": {},
   "source": [
    "### now generate the actual distribution of your test statistic under the null that your experimental conditions don't matter\n",
    "* Goal is to test the likelihood of observing our actual t-value under the null hypothesis that the experimental manipulation has no effect\n",
    "* Another way of stating the null is that \"condition labels shouldn't matter\" (because if the condition has no effect, then shouldn't matter whether the data point came from condition A or B). \n",
    "* So we can randomly assign the data points as coming from either condition A or B, with the constraint that we keep the balance of data points in condition A and B the same as in the original data"
   ]
  },
  {
   "cell_type": "code",
   "execution_count": 116,
   "metadata": {},
   "outputs": [
    {
     "data": {
      "image/png": "[encoded data removed]",
      "text/plain": [
       "<matplotlib.figure.Figure at 0x230225534e0>"
      ]
     },
     "metadata": {},
     "output_type": "display_data"
    },
    {
     "name": "stdout",
     "output_type": "stream",
     "text": [
      "Randomization-based p-value:  0.0  Parametric P-value:  [ 0.00013572]\n"
     ]
    }
   ],
   "source": [
    "# how many times do we want to randomize the data and then eval our\n",
    "# test statistic again?\n",
    "num_randomizations = 10000\n",
    "\n",
    "# allocate a matrix to store the output\n",
    "rand_t = np.zeros(num_randomizations)\n",
    "\n",
    "# matrix to store our t-values under the null that condition labels don't matter\n",
    "null_t_val = np.zeros(num_randomizations)\n",
    "\n",
    "# start a loop to iterate over randomizations of condition labels\n",
    "for i in np.arange(num_randomizations):\n",
    "    \n",
    "    # conceptualize the randomization as randomly changing the sign of the difference \n",
    "    # between each pair of entries in d1 and d2\n",
    "    # note: bonus points for figuring out one small flaw in this line of code...\n",
    "    rand_data = np.sign(np.random.rand(N,1)-.5) * (d1-d2)\n",
    "    \n",
    "    null_t_val[i] = np.mean(rand_data, axis=0) / (np.std(rand_data, axis=0) / np.sqrt(N-1))\n",
    "    \n",
    "#show the distribution of tvals under the null\n",
    "plt.hist(null_t_val, color='r', alpha=1, bins=30)\n",
    "plt.xlabel('T-value')\n",
    "plt.ylabel('Count')\n",
    "plt.show()    \n",
    "\n",
    "# now print out our mean t-value under the null, and the associated pvalue\n",
    "# that is generated by comparing our observed t-value with the distribution\n",
    "# of tvalues under the null!\n",
    "rand_p_value = 2*(1-np.sum(study_t_val>null_t_val) / num_randomizations)\n",
    "print('Randomization-based p-value: ', rand_p_value, ' Parametric P-value: ', p_value)\n"
   ]
  },
  {
   "cell_type": "markdown",
   "metadata": {},
   "source": [
    "## Using bootstrapping to estimate how well models generalize..."
   ]
  },
  {
   "cell_type": "markdown",
   "metadata": {},
   "source": [
    "Basic background: Imagine you do a typical experiment in your lab. You run a subject  (human/rodent/whatever) through your memory/perception test and you get a 100 numbers, one number that indexes the magnitude of your  dependent variable on each trial (RTs/Accuracy/EEG amplitude/spike rate/GSR/etc). Now, you compute your mean over your 100 samples and get 10 (spikes/%cor/etc). Now you might reasonably wonder: this subject produced a mean score of  10 on my test, but what if I were to run her again? Would I get the same number? What if she participated 1,000 times on the test? Would I get 10 every time? \n",
    "[note that similar questions can be asked about population-level stats, \n",
    "which will be part of your problem set this week]. So the problem is that you're in a situation where you want to know the \n",
    "reliability of a number (i.e. the central tendency of 10), but you only get to make your measurements 1 time (or a limited number of times). There are several ways that you can estimate the number's reliability, but one of the best is to do a bootstrapping analysis, which estimates the variance of your condition mean by resampling the 100 trials you obtained with replacement to see how stable the central tendency is after boot strapping you end up with a confidence interval (CI) on data from this subject - idea is that we can estimate how certain we are of a mean that we observe from this subject - and we can do that either by repeatedly re-sampling from the observed data with replacement, or by re-running the subject N times"
   ]
  },
  {
   "cell_type": "code",
   "execution_count": null,
   "metadata": {},
   "outputs": [],
   "source": []
  },
  {
   "cell_type": "code",
   "execution_count": null,
   "metadata": {},
   "outputs": [],
   "source": [
    "from sklearn.utils import sk  # to get the resample function"
   ]
  },
  {
   "cell_type": "code",
   "execution_count": null,
   "metadata": {},
   "outputs": [],
   "source": [
    "# generate a data set\n",
    "data = [0.1, 0.2, 0.3, 0.4, 0.5, 0.6]\n",
    "\n",
    "# prepare bootstrap sample\n",
    "boot = resample(data, replace=True, n_samples=4, random_state=1)\n",
    "\n",
    "print('Bootstrap Sample: %s' % boot)\n",
    "# out of bag observations\n",
    "\n",
    "oob = [x for x in data if x not in boot]\n",
    "\n",
    "print('OOB Sample: %s' % oob)"
   ]
  }
 ],
 "metadata": {
  "kernelspec": {
   "display_name": "Python 3",
   "language": "python",
   "name": "python3"
  },
  "language_info": {
   "codemirror_mode": {
    "name": "ipython",
    "version": 3
   },
   "file_extension": ".py",
   "mimetype": "text/x-python",
   "name": "python",
   "nbconvert_exporter": "python",
   "pygments_lexer": "ipython3",
   "version": "3.6.6"
  }
 },
 "nbformat": 4,
 "nbformat_minor": 2
}
