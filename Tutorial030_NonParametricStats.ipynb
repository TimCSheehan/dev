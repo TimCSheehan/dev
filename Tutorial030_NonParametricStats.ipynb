{
 "cells": [
  {
   "cell_type": "markdown",
   "metadata": {},
   "source": [
    "# Permutation (randomization) and bootstrapping...non-parametraic statistics. "
   ]
  },
  {
   "cell_type": "markdown",
   "metadata": {},
   "source": [
    "## Developing test statistics and their distributions\n",
    "In classic stats, we assume that there is some distirbution (e.g. a t-distribution) that reflects the true population distribution given a fixed sample size. Then we make a few measurements from our sample\n",
    "population and we see how likely our measurement is compared to this\n",
    "hypothetical population distribution. \n",
    "\n",
    "Why do we make this comparison of our sample mean against some hypothetical function (t-distribution)?\n",
    "Why not just collect our data, and if we collect enough of it, then we\n",
    "can just directly evaluate our confidence in the summary mean (and also\n",
    "differences between conditions) without resorting to comparing with\n",
    "hypothetical distributions...and we can do this using just the data we\n",
    "have in hand (assuming a few basic conditions are met). This \n",
    "seems like a good idea, and given that resampling methods are now computationally\n",
    "tractable its almost always a good idea to use them."
   ]
  },
  {
   "cell_type": "markdown",
   "metadata": {},
   "source": [
    "## Randomization tests\n",
    "In a typical study, you collect data from two groups (or more) and then\n",
    "you want to decide if the two group means are different given the separation \n",
    "of their means and their variances. So you compute the differences\n",
    "between the means, weight that difference by the variance, and then\n",
    "compare that test statistic again a standard look up table (e.g. a\n",
    "t-distribution or similar) to see how likely our observed data are.  \n",
    "This standard approach makes a number of assumptions:\n",
    "* The data are normally distributed so that the test stat follows the expected distribution (i.e. a t-distribution)\n",
    "* that we have taken truly random samples from the population(s) so that we can genearlize our results to the entire population\n",
    "* The normal null hypothesis that mu1=mu2 based on where the difference between means falls against a standard statistic distribution (like the t-table). As the result of assumptions 1 and 2, we are then supposed  to infer that if we get a p<0.05 (or whatever out magic number is), then we can make an inference about the entire population (i.e. *inferential* stat).\n",
    "\n",
    "In contrast, *RANDOMIZATION TESTING* does away with most of these assumptions in place of a different approach.\n",
    "* We do not need normally distributed data, etc. In fact, we rarely seem to meet these conditions in real data anyway, so this is a pretty handy thing.\n",
    "* We are not interested in making population inferences or accuractely estimate population means/std etc (see bootstrapping section below for that)  \n",
    "\n",
    "The test statistic that we generate is not compared to a standard look up table - instead we generate our own 'null' distribution against which to compare the data that we actually observe with the goal of evaluating the propbability of observing a mean difference of X given that our condition labels (or our manipulation) had no effect. Under this null, the data could equally likely have come from either distribution. "
   ]
  },
  {
   "cell_type": "markdown",
   "metadata": {},
   "source": [
    "## Import our standard numpy and plotting stuff...also stats from scipy"
   ]
  },
  {
   "cell_type": "code",
   "execution_count": 16,
   "metadata": {},
   "outputs": [],
   "source": [
    "import numpy as np\n",
    "from scipy import stats\n",
    "import matplotlib.pyplot as plt"
   ]
  },
  {
   "cell_type": "markdown",
   "metadata": {},
   "source": [
    "## Start by generating some fake data from two experimental conditions. "
   ]
  },
  {
   "cell_type": "code",
   "execution_count": 21,
   "metadata": {},
   "outputs": [
    {
     "data": {
      "image/png": "[encoded data removed]",
      "text/plain": [
       "<Figure size 432x288 with 1 Axes>"
      ]
     },
     "metadata": {},
     "output_type": "display_data"
    },
    {
     "name": "stdout",
     "output_type": "stream",
     "text": [
      "t-value:  1.6319324811493586e-31  p-value:  1.6319324811493586e-31\n"
     ]
    }
   ],
   "source": [
    "effect_of_condition = 2\n",
    "d1 = np.random.randn(100,)\n",
    "d2 = np.random.randn(100,)+effect_of_condition\n",
    "plt.hist(d1)\n",
    "plt.hist(d2)\n",
    "plt.show()\n",
    "\n",
    "t_val = stats.ttest_rel(d1,d2)\n",
    "print('t-value: ', t_val.pvalue, ' p-value: ', t_val.pvalue)"
   ]
  },
  {
   "cell_type": "markdown",
   "metadata": {},
   "source": [
    "## do a permutation test on this"
   ]
  },
  {
   "cell_type": "code",
   "execution_count": 1,
   "metadata": {},
   "outputs": [
    {
     "name": "stdout",
     "output_type": "stream",
     "text": [
      "Bootstrap Sample: [0.6, 0.4, 0.5, 0.1]\n",
      "OOB Sample: [0.2, 0.3]\n"
     ]
    }
   ],
   "source": []
  },
  {
   "cell_type": "code",
   "execution_count": null,
   "metadata": {},
   "outputs": [],
   "source": []
  },
  {
   "cell_type": "code",
   "execution_count": null,
   "metadata": {},
   "outputs": [],
   "source": []
  },
  {
   "cell_type": "code",
   "execution_count": null,
   "metadata": {},
   "outputs": [],
   "source": []
  },
  {
   "cell_type": "markdown",
   "metadata": {},
   "source": [
    "## Using bootstrapping to estimate how well models generalize..."
   ]
  },
  {
   "cell_type": "code",
   "execution_count": null,
   "metadata": {},
   "outputs": [],
   "source": [
    "from sklearn.utils import sk  # to get the resample function"
   ]
  },
  {
   "cell_type": "code",
   "execution_count": null,
   "metadata": {},
   "outputs": [],
   "source": [
    "# generate a data set\n",
    "data = [0.1, 0.2, 0.3, 0.4, 0.5, 0.6]\n",
    "\n",
    "# prepare bootstrap sample\n",
    "boot = resample(data, replace=True, n_samples=4, random_state=1)\n",
    "\n",
    "print('Bootstrap Sample: %s' % boot)\n",
    "# out of bag observations\n",
    "\n",
    "oob = [x for x in data if x not in boot]\n",
    "\n",
    "print('OOB Sample: %s' % oob)"
   ]
  }
 ],
 "metadata": {
  "kernelspec": {
   "display_name": "Python 3",
   "language": "python",
   "name": "python3"
  },
  "language_info": {
   "codemirror_mode": {
    "name": "ipython",
    "version": 3
   },
   "file_extension": ".py",
   "mimetype": "text/x-python",
   "name": "python",
   "nbconvert_exporter": "python",
   "pygments_lexer": "ipython3",
   "version": "3.6.6"
  }
 },
 "nbformat": 4,
 "nbformat_minor": 2
}
