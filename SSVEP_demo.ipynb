{
 "cells": [
  {
   "cell_type": "markdown",
   "metadata": {},
   "source": [
    "# SSVEP demo with real data from Kirsten"
   ]
  },
  {
   "cell_type": "code",
   "execution_count": 1,
   "metadata": {},
   "outputs": [],
   "source": [
    "import scipy.io as sio   # need to load the mat file\n",
    "import numpy as np\n",
    "import matplotlib.pyplot as plt"
   ]
  },
  {
   "cell_type": "code",
   "execution_count": 36,
   "metadata": {},
   "outputs": [
    {
     "ename": "KeyError",
     "evalue": "'Attend 20 Hz, Target absent'",
     "output_type": "error",
     "traceback": [
      "\u001b[0;31m---------------------------------------------------------------------------\u001b[0m",
      "\u001b[0;31mKeyError\u001b[0m                                  Traceback (most recent call last)",
      "\u001b[0;32m<ipython-input-36-265dd373b5f6>\u001b[0m in \u001b[0;36m<module>\u001b[0;34m()\u001b[0m\n\u001b[1;32m      1\u001b[0m \u001b[0mdata\u001b[0m \u001b[0;34m=\u001b[0m \u001b[0msio\u001b[0m\u001b[0;34m.\u001b[0m\u001b[0mloadmat\u001b[0m\u001b[0;34m(\u001b[0m\u001b[0;34m'S9_trial_data.mat'\u001b[0m\u001b[0;34m)\u001b[0m\u001b[0;34m\u001b[0m\u001b[0m\n\u001b[0;32m----> 2\u001b[0;31m \u001b[0mprint\u001b[0m\u001b[0;34m(\u001b[0m\u001b[0mdata\u001b[0m\u001b[0;34m[\u001b[0m\u001b[0;34m'Attend 20 Hz, Target absent'\u001b[0m\u001b[0;34m]\u001b[0m\u001b[0;34m)\u001b[0m\u001b[0;34m\u001b[0m\u001b[0m\n\u001b[0m",
      "\u001b[0;31mKeyError\u001b[0m: 'Attend 20 Hz, Target absent'"
     ]
    }
   ],
   "source": [
    "data = sio.loadmat('S9_trial_data.mat')\n",
    "print(data['Attend 20 Hz, Target absent'])"
   ]
  },
  {
   "cell_type": "code",
   "execution_count": 33,
   "metadata": {},
   "outputs": [
    {
     "name": "stdout",
     "output_type": "stream",
     "text": [
      "[[(array([[  4.53758559,   4.83297328,   4.98122198, ...,   1.76896504,\n",
      "          1.94812842,   2.40756952],\n",
      "       [-16.68359931, -15.26219617, -13.49764243, ...,  31.04352922,\n",
      "         31.32202873,  31.46615944],\n",
      "       [ 13.11372886,  14.34098917,  15.39251923, ...,  -2.49819272,\n",
      "         -2.45826244,  -2.28845391],\n",
      "       ...,\n",
      "       [ 12.28483644,  12.2922767 ,  12.41500769, ...,  16.92596874,\n",
      "         17.0045136 ,  16.97314615],\n",
      "       [ -4.93506007,  -5.02811764,  -5.25985957, ...,   3.29981001,\n",
      "          3.70791113,   4.12236927],\n",
      "       [  5.8689644 ,   8.38065081,  10.67742288, ..., -17.02317192,\n",
      "        -18.21907468, -19.34750905]]), array([[20],\n",
      "       [11],\n",
      "       [10],\n",
      "       ...,\n",
      "       [11],\n",
      "       [11],\n",
      "       [11]], dtype=uint8), array([[-1751.953125 , -1750.9765625, -1750.       , ...,  2250.9765625,\n",
      "         2251.953125 ,  2252.9296875]]), array([[1024]], dtype=uint16), array([[0.9765625]]), array([[10, 11, 20, 21]], dtype=uint8), array([[array(['Attend 20 Hz, Target absent'], dtype='<U27'),\n",
      "        array(['Attend 20 Hz, Target Present'], dtype='<U28'),\n",
      "        array(['Attend 24 Hz, Target Absent'], dtype='<U27'),\n",
      "        array(['Attend 24 Hz, Target Present'], dtype='<U28')]],\n",
      "      dtype=object))]]\n"
     ]
    }
   ],
   "source": [
    "x = data[\"s9\"]\n",
    "print(x)\n"
   ]
  }
 ],
 "metadata": {
  "kernelspec": {
   "display_name": "Python 3",
   "language": "python",
   "name": "python3"
  },
  "language_info": {
   "codemirror_mode": {
    "name": "ipython",
    "version": 3
   },
   "file_extension": ".py",
   "mimetype": "text/x-python",
   "name": "python",
   "nbconvert_exporter": "python",
   "pygments_lexer": "ipython3",
   "version": "3.6.5"
  }
 },
 "nbformat": 4,
 "nbformat_minor": 2
}
