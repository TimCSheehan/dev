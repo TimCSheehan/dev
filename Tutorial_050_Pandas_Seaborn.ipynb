{
 "cells": [
  {
   "cell_type": "markdown",
   "metadata": {},
   "source": [
    "# Pandas, data frames and making nice figures with Seaborn (and Matplotlib)\n",
    "[the official homepage](https://pandas.pydata.org)"
   ]
  },
  {
   "cell_type": "markdown",
   "metadata": {},
   "source": [
    "## Basic data structures - start with Series then build up to DataFrames\n",
    "\n",
    "[Pandas Documentation](https://pandas.pydata.org/pandas-docs/stable/dsintro.html)\n",
    "\n",
    "* A **Series** is a 1D array that can hold any type of data (numeric types, non-numeric, Python objects and so forth).\n",
    "    * Unlike a 1D numpy array, each entry is **labeled** with an index that is used to keep track of what each entry is, and can be used to lookup the value corresponding to each index during analysis.\n",
    "    * These labels are fixed - they will always index the same value unless you explicitly break that link.\n",
    "    * The list of labels that forms the index can either be declared upon series creation or, by default, it will range from 0 to len(data)-1.\n",
    "        * If you're going to use Pandas to organize your data, specifying usable and informative labels is a good idea!\n",
    "        \n",
    "<div class=\"alert alert-warning\">\n",
    "Pandas will allow you to specify non-unique labels. This can be fine for operations that don't rely on idnexing by label. However, operations that do rely on unique labels for indexing may through an unexpected error so its good general practice to use unique labels!\n",
    "</div>"
   ]
  },
  {
   "cell_type": "markdown",
   "metadata": {},
   "source": [
    "## import libs"
   ]
  },
  {
   "cell_type": "code",
   "execution_count": 1,
   "metadata": {},
   "outputs": [],
   "source": [
    "import numpy as np\n",
    "import matplotlib as plt\n",
    "\n",
    "# import a generic pandas object and also a few specific functions\n",
    "import pandas as pd \n",
    "from pandas import DataFrame, read_csv\n",
    "\n",
    "# new - get current path for file i/o later on in tutorial\n",
    "import os\n",
    "cwd = os.getcwd()\n",
    "\n",
    "# also define the default font we'll use for figures. \n",
    "fig_font = {'fontname':'Arial', 'size':'20'}"
   ]
  },
  {
   "cell_type": "markdown",
   "metadata": {},
   "source": [
    "## Create a series from an numpy ndarray"
   ]
  },
  {
   "cell_type": "code",
   "execution_count": 6,
   "metadata": {},
   "outputs": [
    {
     "name": "stdout",
     "output_type": "stream",
     "text": [
      "['S0', 'S1', 'S2', 'S3', 'S4', 'S5', 'S6', 'S7', 'S8', 'S9', 'S10', 'S11', 'S12', 'S13', 'S14', 'S15']\n"
     ]
    },
    {
     "data": {
      "text/plain": [
       "S0     1.015489\n",
       "S1     0.892702\n",
       "S2     0.140444\n",
       "S3     1.315811\n",
       "S4     0.562052\n",
       "S5     0.403826\n",
       "S6     1.748016\n",
       "S7     0.739514\n",
       "S8     3.459767\n",
       "S9     1.233524\n",
       "S10    1.654765\n",
       "S11    0.956057\n",
       "S12    1.970684\n",
       "S13    1.954968\n",
       "S14    1.139489\n",
       "S15    0.758600\n",
       "dtype: float64"
      ]
     },
     "execution_count": 6,
     "metadata": {},
     "output_type": "execute_result"
    }
   ],
   "source": [
    "# use pd.Series\n",
    "N = 16\n",
    "data = np.random.rayleigh(scale=1, size=N)\n",
    "\n",
    "# make a list of subject names for use as an index\n",
    "var_name = 'S'\n",
    "index=[]\n",
    "for n in np.arange(N):\n",
    "    index.append(var_name+str(n))\n",
    "\n",
    "print(index)\n",
    "\n",
    "# then make our series by passing in data and our index labels\n",
    "np_to_s = pd.Series(data, index=index)\n",
    "np_to_s"
   ]
  },
  {
   "cell_type": "code",
   "execution_count": null,
   "metadata": {},
   "outputs": [],
   "source": []
  },
  {
   "cell_type": "markdown",
   "metadata": {},
   "source": [
    "## DataFrames\n",
    "\n",
    "* \n",
    "* \n",
    "* \n"
   ]
  },
  {
   "cell_type": "markdown",
   "metadata": {},
   "source": [
    "## Make a data set that we can play with, will import some real data later on\n",
    "* just make up some stuff here...lets say responses in 5 different neurons to different stimuli "
   ]
  },
  {
   "cell_type": "code",
   "execution_count": null,
   "metadata": {},
   "outputs": [],
   "source": [
    "# seed random number generator\n",
    "np.random.RandomState(0)\n",
    "\n",
    "# dependent variables - 5 neurons...\n",
    "neurons = ['Nrn1','Nrn2','Nrn3','Nrn4','Nrn5','Nrn6','Nrn7','Nrn8','Nrn9','Nrn10']  \n",
    "\n",
    "# independent variables...responses in Hz to two stimulus conditions\n",
    "resp1_hz = [14, 27, 62, 88, 45, 56, 75, 63, 33, 46]\n",
    "\n",
    "# set up our response to stimulus 2...use random.randint for fun\n",
    "min_resp = 1  # inclusive\n",
    "max_resp = 90 # exclusive\n",
    "resp2_hz = np.random.randint(1, 90, len(resp1_hz))"
   ]
  },
  {
   "cell_type": "markdown",
   "metadata": {},
   "source": [
    "## New - use 'zip' function to wrap up the data from each list into one list\n",
    "* does like it sounds like it does - takes three iterators and groups them together into a single iterator with the 1st element in each iterator together, then the second, etc. \n",
    "* length of resulting iterator limited by the length of the shortest input iterator\n",
    "\n",
    "[reference](https://www.w3schools.com/python/ref_func_zip.asp)"
   ]
  },
  {
   "cell_type": "code",
   "execution_count": null,
   "metadata": {},
   "outputs": [],
   "source": [
    "neuron_data = list(zip(neurons, resp1_hz, resp2_hz))\n",
    "print(neuron_data)"
   ]
  },
  {
   "cell_type": "markdown",
   "metadata": {},
   "source": [
    "## Make a dataframe object to hold the contents of the data set"
   ]
  },
  {
   "cell_type": "code",
   "execution_count": null,
   "metadata": {},
   "outputs": [],
   "source": [
    "df = pd.DataFrame(data = neuron_data, columns = ['neuron', 'resp1', 'resp2'])\n",
    "\n",
    "# take a look at the nice output here...\n",
    "df"
   ]
  },
  {
   "cell_type": "markdown",
   "metadata": {},
   "source": [
    "## Saving data in a csv file"
   ]
  },
  {
   "cell_type": "code",
   "execution_count": null,
   "metadata": {},
   "outputs": [],
   "source": [
    " # lets save our header as well so that it doesn't think our first row is the header when we read the file back in\n",
    "df.to_csv('spike_rates.csv',index=False,header=True)"
   ]
  },
  {
   "cell_type": "code",
   "execution_count": null,
   "metadata": {},
   "outputs": [],
   "source": [
    "# use our current working directory to build a path to the file\n",
    "print(cwd)\n",
    "file_name = cwd + '/spike_rates.csv'\n",
    "print(file_name)\n",
    "\n",
    "df = pd.read_csv(file_name)\n",
    "df"
   ]
  },
  {
   "cell_type": "markdown",
   "metadata": {},
   "source": [
    "## Get a high-level summary of the data"
   ]
  },
  {
   "cell_type": "code",
   "execution_count": null,
   "metadata": {},
   "outputs": [],
   "source": [
    "df.describe()"
   ]
  },
  {
   "cell_type": "markdown",
   "metadata": {},
   "source": [
    "## Can also apply a set of more targeted analyses using the df object\n",
    "\n",
    "* [Pandas doc for all functions](https://pandas.pydata.org/pandas-docs/stable/api.html#api-dataframe-stats)"
   ]
  },
  {
   "cell_type": "code",
   "execution_count": null,
   "metadata": {},
   "outputs": [],
   "source": [
    "df.mean(axis=0)"
   ]
  }
 ],
 "metadata": {
  "kernelspec": {
   "display_name": "Python 3",
   "language": "python",
   "name": "python3"
  },
  "language_info": {
   "codemirror_mode": {
    "name": "ipython",
    "version": 3
   },
   "file_extension": ".py",
   "mimetype": "text/x-python",
   "name": "python",
   "nbconvert_exporter": "python",
   "pygments_lexer": "ipython3",
   "version": "3.6.5"
  }
 },
 "nbformat": 4,
 "nbformat_minor": 2
}
