{
 "cells": [
  {
   "cell_type": "markdown",
   "metadata": {},
   "source": [
    "# Intro to filtering and time-series processing\n",
    "\n",
    "[scipy ref page](https://docs.scipy.org/doc/scipy/reference/signal.html)"
   ]
  },
  {
   "cell_type": "markdown",
   "metadata": {},
   "source": [
    "## Topics - \n",
    "* basic demo of lp, hp, bp filters implenmented in time and freq domains. \n",
    "* wavelet transforms\n",
    "* peak finding using wv transforms\n",
    "[link here](https://plot.ly/python/fft-filters/)\n",
    "\n",
    "[link pdf](file:///C:/Users/jserences/Downloads/Lecture_06_FIR_IIR_filters.pdf)\n",
    "\n",
    "[link pdf](file:///C:/Users/jserences/Downloads/Lecture_07_Statistical_filtering.pdf)\n"
   ]
  },
  {
   "cell_type": "markdown",
   "metadata": {},
   "source": [
    "## linear filters\n",
    "* \n",
    "* Multiply FFT of timeseries by a transfer function, which is the FFT of time domain implementation of the filter\n",
    "* A low-pass filter in the freq domain is a square wave that has a sharp cutoff (so passes everything below the cutoff and passing nothing above the cut-off)\n",
    "    * However, a sharp edge filter contains energy at all frequencies, so has no true fall off.\n",
    "    * Windowing functions reduce the ripple (rapid oscillations near the edge of the band), but extend the roll-off.\n",
    "    * Butterworth is a popular alternative..."
   ]
  },
  {
   "cell_type": "markdown",
   "metadata": {},
   "source": [
    "## imports"
   ]
  },
  {
   "cell_type": "code",
   "execution_count": null,
   "metadata": {},
   "outputs": [],
   "source": []
  }
 ],
 "metadata": {
  "kernelspec": {
   "display_name": "Python 3",
   "language": "python",
   "name": "python3"
  },
  "language_info": {
   "codemirror_mode": {
    "name": "ipython",
    "version": 3
   },
   "file_extension": ".py",
   "mimetype": "text/x-python",
   "name": "python",
   "nbconvert_exporter": "python",
   "pygments_lexer": "ipython3",
   "version": "3.6.5"
  }
 },
 "nbformat": 4,
 "nbformat_minor": 2
}
