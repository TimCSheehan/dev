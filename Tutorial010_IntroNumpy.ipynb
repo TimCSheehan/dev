{
 "cells": [
  {
   "cell_type": "markdown",
   "metadata": {},
   "source": [
    "# Intro to NumPy\n",
    "\n",
    "-  [based on this numpy quickstart guide](https://docs.scipy.org/doc/numpy/user/quickstart.html)\n",
    "\n",
    "-  [full list of routines](https://docs.scipy.org/doc/numpy-dev/reference/routines.html#routines)"
   ]
  },
  {
   "cell_type": "code",
   "execution_count": null,
   "metadata": {},
   "outputs": [],
   "source": [
    "# import numpy lib and other libs for this tutorial\n",
    "import numpy as np\n",
    "from numpy import pi\n",
    "import matplotlib.pyplot as plt\n",
    "from scipy.stats import norm"
   ]
  },
  {
   "cell_type": "markdown",
   "metadata": {},
   "source": [
    "## initialize array and a few basic operations"
   ]
  },
  {
   "cell_type": "code",
   "execution_count": 3,
   "metadata": {},
   "outputs": [
    {
     "name": "stdout",
     "output_type": "stream",
     "text": [
      "[0 1 2 3 4 5 6 7 8 9]\n"
     ]
    },
    {
     "data": {
      "text/plain": [
       "(10,)"
      ]
     },
     "execution_count": 3,
     "metadata": {},
     "output_type": "execute_result"
    }
   ],
   "source": [
    "# set up an array and figure out shape...\n",
    "my_array = np.arange(10)    # the interval includes `start` but excludes `stop`, overal interval [start...stop-1]\n",
    "print(my_array)\n",
    "my_array.shape     "
   ]
  },
  {
   "cell_type": "code",
   "execution_count": 5,
   "metadata": {
    "scrolled": true
   },
   "outputs": [
    {
     "data": {
      "text/plain": [
       "(2, 5)"
      ]
     },
     "execution_count": 5,
     "metadata": {},
     "output_type": "execute_result"
    }
   ],
   "source": [
    "# reshape array\n",
    "my_array = np.arange(10)\n",
    "my_array = my_array.reshape(2,5)   # why is (2,5) and (5,2) ok but (2,6) not ok? \n",
    "my_array.shape   "
   ]
  },
  {
   "cell_type": "code",
   "execution_count": 6,
   "metadata": {},
   "outputs": [
    {
     "data": {
      "text/plain": [
       "(2, 3, 7)"
      ]
     },
     "execution_count": 6,
     "metadata": {},
     "output_type": "execute_result"
    }
   ],
   "source": [
    "# neat trick...can also reshape with 'shape' and use a -1 which means 'whatever works' \n",
    "my_array = np.arange(42)\n",
    "my_array.shape = 2,3,-1  \n",
    "my_array.shape"
   ]
  },
  {
   "cell_type": "markdown",
   "metadata": {},
   "source": [
    "## data types (and remeber - strong typed language)"
   ]
  },
  {
   "cell_type": "code",
   "execution_count": null,
   "metadata": {},
   "outputs": [],
   "source": [
    "print('Dims of data: ', my_array.ndim)              # number of dims\n",
    "print('Size of each element (bytes): ', my_array.itemsize)          # size of each element in bytes\n",
    "print('Total number of elements in array: ', my_array.size)         # total number of elements in array\n",
    "print('Name of data type: ', my_array.dtype.name)   # name of data type (float, int32, int64 etc)"
   ]
  },
  {
   "cell_type": "code",
   "execution_count": null,
   "metadata": {},
   "outputs": [],
   "source": [
    "# will infer data type based on input values...here we have 1 float so the whole thing is float\n",
    "float_array = np.array([1.1,2,3])  \n",
    "float_array.dtype.name             # or np.dtype"
   ]
  },
  {
   "cell_type": "code",
   "execution_count": null,
   "metadata": {},
   "outputs": [],
   "source": [
    "int_array = np.array([ [1,2,3], [6,7,8]], dtype = 'int64')   # complex, float32, float64, int32, uint32 (unsigned int32), etc\n",
    "int_array.dtype\n",
    "int_array"
   ]
  },
  {
   "cell_type": "markdown",
   "metadata": {},
   "source": [
    "<div class=\"alert alert-success\">\n",
    "what happens if you initialize with floating point numbers but you declare an int data type?\n",
    "</div>"
   ]
  },
  {
   "cell_type": "code",
   "execution_count": 4,
   "metadata": {},
   "outputs": [
    {
     "data": {
      "text/plain": [
       "array([[1, 2, 3],\n",
       "       [6, 7, 8]])"
      ]
     },
     "execution_count": 4,
     "metadata": {},
     "output_type": "execute_result"
    }
   ],
   "source": [
    "int_array = np.array([[1.1,2.7,3.4], [6.9,7.5,8.2]], dtype = 'int64')   # complex, float32, float64, int32, uint32 (unsigned int32), etc\n",
    "int_array"
   ]
  },
  {
   "cell_type": "markdown",
   "metadata": {},
   "source": [
    "## Allocate arrays of zeros, ones or rand to reserve the memory before filling up later "
   ]
  },
  {
   "cell_type": "markdown",
   "metadata": {},
   "source": [
    "<div class=\"alert alert-info\">\n",
    "handy when you know what size you need, but you're not ready to fill it up yet...saves you from dynamically resizing the matrix during analysis, which is very slow\n",
    "</div>"
   ]
  },
  {
   "cell_type": "code",
   "execution_count": 8,
   "metadata": {},
   "outputs": [
    {
     "name": "stdout",
     "output_type": "stream",
     "text": [
      "Data type: float64\n",
      "Data type: int32\n"
     ]
    }
   ],
   "source": [
    "# note the () around the dims because you specify as a tuple and default type is float64\n",
    "zero_array = np.zeros( (3,4) )   \n",
    "print('Data type:', zero_array.dtype)\n",
    "\n",
    "# explicilty declare data type\n",
    "zero_array = np.zeros( (3,4), dtype=np.int32)   # note can use np.dtype instead of 'dtype'\n",
    "print('Data type:', zero_array.dtype)"
   ]
  },
  {
   "cell_type": "code",
   "execution_count": 9,
   "metadata": {},
   "outputs": [
    {
     "data": {
      "text/plain": [
       "array([[[1., 1., 1., 1.],\n",
       "        [1., 1., 1., 1.],\n",
       "        [1., 1., 1., 1.],\n",
       "        [1., 1., 1., 1.]],\n",
       "\n",
       "       [[1., 1., 1., 1.],\n",
       "        [1., 1., 1., 1.],\n",
       "        [1., 1., 1., 1.],\n",
       "        [1., 1., 1., 1.]],\n",
       "\n",
       "       [[1., 1., 1., 1.],\n",
       "        [1., 1., 1., 1.],\n",
       "        [1., 1., 1., 1.],\n",
       "        [1., 1., 1., 1.]],\n",
       "\n",
       "       [[1., 1., 1., 1.],\n",
       "        [1., 1., 1., 1.],\n",
       "        [1., 1., 1., 1.],\n",
       "        [1., 1., 1., 1.]]])"
      ]
     },
     "execution_count": 9,
     "metadata": {},
     "output_type": "execute_result"
    }
   ],
   "source": [
    "# ones\n",
    "# note the 3D output below...4, 4x4 squares of floating point 1s...\n",
    "np.ones( (4,4,4), dtype=np.float64 )           "
   ]
  },
  {
   "cell_type": "code",
   "execution_count": 6,
   "metadata": {},
   "outputs": [
    {
     "data": {
      "text/plain": [
       "array([[[1.e-45, 0.e+00],\n",
       "        [1.e-45, 0.e+00]],\n",
       "\n",
       "       [[1.e-45, 0.e+00],\n",
       "        [0.e+00, 0.e+00]]], dtype=float32)"
      ]
     },
     "execution_count": 6,
     "metadata": {},
     "output_type": "execute_result"
    }
   ],
   "source": [
    "# and empty...not really 'empty' but initialized with varible output determined by current state of memory\n",
    "np.empty( (2,2,2), dtype = np.float32)"
   ]
  },
  {
   "cell_type": "markdown",
   "metadata": {},
   "source": [
    "## Can also create sequences of numbers using arange..."
   ]
  },
  {
   "cell_type": "code",
   "execution_count": null,
   "metadata": {},
   "outputs": [],
   "source": [
    "seq_array = np.arange(10)    # 0-9...remember - counting starts at 0! \n",
    "print(seq_array)"
   ]
  },
  {
   "cell_type": "code",
   "execution_count": 15,
   "metadata": {},
   "outputs": [
    {
     "name": "stdout",
     "output_type": "stream",
     "text": [
      "[ 0  5 10 15 20 25]\n"
     ]
    }
   ],
   "source": [
    "# can specify start, stop and step\n",
    "seq_array = np.arange(0,30,5)     # start, stop (stop at < X), step size\n",
    "print(seq_array)\n",
    "# note that 30 is not in there..."
   ]
  },
  {
   "cell_type": "code",
   "execution_count": 17,
   "metadata": {},
   "outputs": [
    {
     "name": "stdout",
     "output_type": "stream",
     "text": [
      "[0.  0.5 1.  1.5 2.  2.5 3.  3.5 4.  4.5 5.  5.5 6.  6.5 7.  7.5 8.  8.5\n",
      " 9.  9.5]\n"
     ]
    }
   ],
   "source": [
    "seq_array = np.arange(0,10,.5)    # decimal input is ok too\n",
    "print(seq_array)"
   ]
  },
  {
   "cell_type": "markdown",
   "metadata": {},
   "source": [
    "<div class=\"alert alert-info\">\n",
    "Because of machine precision issues, sometimes hard to predict how many elements will end up in an array when initialized using arange...so often better to specify a sequence based on start point, stop point, and the exact number of elements that you want (or the number of steps between start and stop). linspace (linear spacing) is the function to do this, and note that unlike arange that ends < stop point, linspace will always end exactly at the specified stop point. \n",
    "</div>"
   ]
  },
  {
   "cell_type": "code",
   "execution_count": 16,
   "metadata": {},
   "outputs": [
    {
     "name": "stdout",
     "output_type": "stream",
     "text": [
      "[ 0.   2.5  5.   7.5 10.  12.5 15.  17.5 20. ]\n"
     ]
    }
   ],
   "source": [
    "lin_array = np.linspace(0,20,9)\n",
    "print(lin_array)"
   ]
  },
  {
   "cell_type": "markdown",
   "metadata": {},
   "source": [
    "## Common use of linspace in this class...eval a function over an interval. quick intro to basic plotting here too..."
   ]
  },
  {
   "cell_type": "code",
   "execution_count": 22,
   "metadata": {},
   "outputs": [
    {
     "data": {
      "image/png": "[encoded data removed]",
      "text/plain": [
       "<Figure size 432x288 with 1 Axes>"
      ]
     },
     "metadata": {},
     "output_type": "display_data"
    }
   ],
   "source": [
    "lin_array = np.linspace(0, 2*pi, 360)\n",
    "sin_wave = np.sin(lin_array)\n",
    "\n",
    "# plotting\n",
    "fig, ax = plt.subplots()               # create subplot\n",
    "ax.plot(lin_array*180/pi, sin_wave, 'r-', linewidth = 4)    # specify x,y data...convert rad to deg for x-axis\n",
    "\n",
    "# label each axis and give it a title\n",
    "ax.set(xlabel='angle (deg)', ylabel='amplitude',\n",
    "       title='Sin wave')\n",
    "\n",
    "# grid?\n",
    "ax.grid()\n",
    "\n",
    "# save the figure if you want to local working directory\n",
    "fig.savefig(\"sin.pdf\")   # png, eps, pdf...\n",
    "\n",
    "# show it!\n",
    "plt.show()"
   ]
  },
  {
   "cell_type": "markdown",
   "metadata": {},
   "source": [
    "## initializing arrays with random numbers...use np.random.rand and np.random.randn"
   ]
  },
  {
   "cell_type": "code",
   "execution_count": 23,
   "metadata": {},
   "outputs": [
    {
     "name": "stdout",
     "output_type": "stream",
     "text": [
      "[[0.76042891 0.71037311 0.85994635 0.80726727 0.97128858 0.78812357\n",
      "  0.92575944 0.69618886 0.05921697 0.70382145 0.44578305 0.12869191\n",
      "  0.5006806  0.38013014 0.78169729 0.27589057]]\n"
     ]
    }
   ],
   "source": [
    "rand_array = np.random.rand(1,16)   # drawn from uniform over [0,1]\n",
    "print(rand_array)"
   ]
  },
  {
   "cell_type": "code",
   "execution_count": 25,
   "metadata": {},
   "outputs": [
    {
     "name": "stdout",
     "output_type": "stream",
     "text": [
      "[[-1.2137114  -1.56521552 -1.08991312  0.53660387  1.30659722 -2.40998327]\n",
      " [ 0.11157524  1.68534608  0.61149298 -1.07086488 -0.40387265  0.24961927]]\n"
     ]
    }
   ],
   "source": [
    "rand_array = np.random.randn(2,6)   # drawn from normal with mean 0 and variance 1\n",
    "print(rand_array)"
   ]
  },
  {
   "cell_type": "markdown",
   "metadata": {},
   "source": [
    "## use randn to generate draws from a normal distribtion with mean = mu and variance = sig and then plot..."
   ]
  },
  {
   "cell_type": "code",
   "execution_count": 33,
   "metadata": {},
   "outputs": [
    {
     "data": {
      "image/png": "[encoded data removed]",
      "text/plain": [
       "<Figure size 432x288 with 1 Axes>"
      ]
     },
     "metadata": {},
     "output_type": "display_data"
    }
   ],
   "source": [
    "# shift the mean and scale the variance for a N(mu,var)\n",
    "samples = 1000\n",
    "mu = 4\n",
    "sig = 2\n",
    "\n",
    "# generate the array of rand numbers \n",
    "rand_array = (sig * np.random.randn(samples,1)) + mu   # drawn from normal with mean mu and variance sig\n",
    "rand_array\n",
    "\n",
    "# plot\n",
    "num_bins = 30\n",
    "\n",
    "fig, ax = plt.subplots()\n",
    "\n",
    "# generate the histogram\n",
    "n, bins, patches = ax.hist(rand_array, num_bins, density=1)\n",
    "\n",
    "# generate a pdf evaled at 'bins' to draw a smooth function - this works because we used randn to generate the data\n",
    "y = norm.pdf(bins, mu, sig)\n",
    "ax.plot(bins, y, 'k--', linewidth = 6)\n",
    "ax.set_xlabel('Random Variable')\n",
    "ax.set_ylabel('Probability density')\n",
    "ax.set_title('Histo of random variable with $\\mu=mu$, $\\sigma=sig$')\n",
    "\n",
    "# show the plot\n",
    "plt.show()\n"
   ]
  },
  {
   "cell_type": "markdown",
   "metadata": {},
   "source": [
    "## Printing arrays"
   ]
  },
  {
   "cell_type": "markdown",
   "metadata": {},
   "source": [
    "<div class=\"alert alert-info\">\n",
    "like displaying as a nested list but (1) last axis printed l to r, (2) second to last from top to bottom (3) rest are also top to bottom but each slice is printed in a separate block\n",
    "</div>"
   ]
  },
  {
   "cell_type": "code",
   "execution_count": 15,
   "metadata": {},
   "outputs": [
    {
     "name": "stdout",
     "output_type": "stream",
     "text": [
      "[ 0  1  2  3  4  5  6  7  8  9 10 11 12 13 14 15 16 17 18 19]\n"
     ]
    }
   ],
   "source": [
    "print_array = np.arange(20)\n",
    "print(print_array)"
   ]
  },
  {
   "cell_type": "code",
   "execution_count": 16,
   "metadata": {},
   "outputs": [
    {
     "name": "stdout",
     "output_type": "stream",
     "text": [
      "[[  0.   1.   2.   3.   4.   5.   6.   7.   8.   9.  10.  11.  12.  13.\n",
      "   14.  15.  16.  17.  18.  19.  20.  21.  22.  23.  24.  25.  26.  27.\n",
      "   28.  29.  30.  31.  32.  33.  34.  35.  36.  37.  38.  39.  40.  41.\n",
      "   42.  43.  44.  45.  46.  47.  48.  49.  50.  51.  52.  53.  54.  55.\n",
      "   56.  57.  58.  59.]\n",
      " [ 60.  61.  62.  63.  64.  65.  66.  67.  68.  69.  70.  71.  72.  73.\n",
      "   74.  75.  76.  77.  78.  79.  80.  81.  82.  83.  84.  85.  86.  87.\n",
      "   88.  89.  90.  91.  92.  93.  94.  95.  96.  97.  98.  99. 100. 101.\n",
      "  102. 103. 104. 105. 106. 107. 108. 109. 110. 111. 112. 113. 114. 115.\n",
      "  116. 117. 118. 119.]\n",
      " [120. 121. 122. 123. 124. 125. 126. 127. 128. 129. 130. 131. 132. 133.\n",
      "  134. 135. 136. 137. 138. 139. 140. 141. 142. 143. 144. 145. 146. 147.\n",
      "  148. 149. 150. 151. 152. 153. 154. 155. 156. 157. 158. 159. 160. 161.\n",
      "  162. 163. 164. 165. 166. 167. 168. 169. 170. 171. 172. 173. 174. 175.\n",
      "  176. 177. 178. 179.]\n",
      " [180. 181. 182. 183. 184. 185. 186. 187. 188. 189. 190. 191. 192. 193.\n",
      "  194. 195. 196. 197. 198. 199. 200. 201. 202. 203. 204. 205. 206. 207.\n",
      "  208. 209. 210. 211. 212. 213. 214. 215. 216. 217. 218. 219. 220. 221.\n",
      "  222. 223. 224. 225. 226. 227. 228. 229. 230. 231. 232. 233. 234. 235.\n",
      "  236. 237. 238. 239.]\n",
      " [240. 241. 242. 243. 244. 245. 246. 247. 248. 249. 250. 251. 252. 253.\n",
      "  254. 255. 256. 257. 258. 259. 260. 261. 262. 263. 264. 265. 266. 267.\n",
      "  268. 269. 270. 271. 272. 273. 274. 275. 276. 277. 278. 279. 280. 281.\n",
      "  282. 283. 284. 285. 286. 287. 288. 289. 290. 291. 292. 293. 294. 295.\n",
      "  296. 297. 298. 299.]\n",
      " [300. 301. 302. 303. 304. 305. 306. 307. 308. 309. 310. 311. 312. 313.\n",
      "  314. 315. 316. 317. 318. 319. 320. 321. 322. 323. 324. 325. 326. 327.\n",
      "  328. 329. 330. 331. 332. 333. 334. 335. 336. 337. 338. 339. 340. 341.\n",
      "  342. 343. 344. 345. 346. 347. 348. 349. 350. 351. 352. 353. 354. 355.\n",
      "  356. 357. 358. 359.]]\n"
     ]
    }
   ],
   "source": [
    "print_array = np.linspace(0,359,360).reshape(6,60)\n",
    "print(print_array)"
   ]
  },
  {
   "cell_type": "code",
   "execution_count": 17,
   "metadata": {},
   "outputs": [
    {
     "name": "stdout",
     "output_type": "stream",
     "text": [
      "[[[ 0  1]\n",
      "  [ 2  3]\n",
      "  [ 4  5]]\n",
      "\n",
      " [[ 6  7]\n",
      "  [ 8  9]\n",
      "  [10 11]]\n",
      "\n",
      " [[12 13]\n",
      "  [14 15]\n",
      "  [16 17]]\n",
      "\n",
      " [[18 19]\n",
      "  [20 21]\n",
      "  [22 23]]]\n"
     ]
    }
   ],
   "source": [
    "# see how last dim (2) is left to right, then next to last dim is top to bottom, then first dim is top to bottom\n",
    "# but each slice is a separate block \n",
    "print_array = np.arange(24).reshape(4,3,2)\n",
    "print(print_array)"
   ]
  },
  {
   "cell_type": "code",
   "execution_count": 18,
   "metadata": {},
   "outputs": [
    {
     "name": "stdout",
     "output_type": "stream",
     "text": [
      "[1.000e+00 2.000e+00 3.000e+00 ... 9.998e+03 9.999e+03 1.000e+04]\n"
     ]
    }
   ],
   "source": [
    "# if output too long then will just print the first bit and the last bit\n",
    "print(np.linspace(1,10000,10000))"
   ]
  },
  {
   "cell_type": "markdown",
   "metadata": {},
   "source": [
    "## Simple elementwise arithmetic operations like + and - work on corresponding elements of arrays. More on linear algebra in separate tutorial"
   ]
  },
  {
   "cell_type": "code",
   "execution_count": 20,
   "metadata": {},
   "outputs": [
    {
     "data": {
      "image/png": "[encoded data removed]",
      "text/plain": [
       "<Figure size 432x288 with 3 Axes>"
      ]
     },
     "metadata": {},
     "output_type": "display_data"
    }
   ],
   "source": [
    "x = np.linspace(0,2*pi,360)\n",
    "y = np.sin(x)\n",
    "\n",
    "#print(x-y)\n",
    "\n",
    "plt.subplot(3, 1, 1)\n",
    "plt.plot(x, x, 'k--')\n",
    "plt.title('X')\n",
    "plt.ylabel('Amplitude')\n",
    "\n",
    "plt.subplot(3, 1, 2)\n",
    "plt.plot(x, y, 'k--')\n",
    "plt.title('Y')\n",
    "plt.xlabel('angle')\n",
    "plt.ylabel('Amplitude')\n",
    "\n",
    "plt.subplot(3, 1, 3)\n",
    "plt.plot(x, x-y, 'k--')\n",
    "plt.title('X-Y')\n",
    "plt.xlabel('angle')\n",
    "plt.ylabel('Amplitude')\n",
    "\n",
    "plt.show()"
   ]
  },
  {
   "cell_type": "markdown",
   "metadata": {},
   "source": [
    "## Some operations that can modify an existing array\n"
   ]
  },
  {
   "cell_type": "code",
   "execution_count": 21,
   "metadata": {},
   "outputs": [
    {
     "name": "stdout",
     "output_type": "stream",
     "text": [
      "[[4. 4. 4. 4. 4. 4. 4. 4. 4. 4.]]\n",
      "[[8. 8. 8. 8. 8. 8. 8. 8. 8. 8.]]\n"
     ]
    }
   ],
   "source": [
    "x = np.ones( (1,10) )\n",
    "\n",
    "# then some C style stuff...\n",
    "x += 3\n",
    "print(x)\n",
    "\n",
    "# note that it builds...so the x+=3 modifies x\n",
    "x *= 2\n",
    "print(x)"
   ]
  },
  {
   "cell_type": "markdown",
   "metadata": {},
   "source": [
    "<div class=\"alert alert-info\">\n",
    "when dealing with muliple arrays of different data types, resulting array will take the form of the highest precision input array (upcasting)!\n",
    "</div>"
   ]
  },
  {
   "cell_type": "code",
   "execution_count": 22,
   "metadata": {},
   "outputs": [
    {
     "name": "stdout",
     "output_type": "stream",
     "text": [
      "x data type:  int32\n",
      "y data type:  float64\n",
      "[[-0.          0.19025011 -1.5724434  -4.38316009  3.89821517  1.36164834\n",
      "  -5.29277796  7.67191934 -0.9475024   1.31086377]]\n",
      "z data type:  float64\n",
      "w data type:  complex128\n"
     ]
    }
   ],
   "source": [
    "x = np.arange(10, dtype='int32')\n",
    "print('x data type: ', x.dtype)\n",
    "\n",
    "y = np.random.randn(1,10)\n",
    "print('y data type: ', y.dtype)\n",
    "\n",
    "# now multiply the int32 array with the float64 array and answer should be the higher precision of the two (float64)\n",
    "z = x * y \n",
    "print(z)\n",
    "print('z data type: ', z.dtype)\n",
    "\n",
    "# another exp, float64 upcast to complex128\n",
    "w = np.exp(z*1j)\n",
    "print('w data type: ', w.dtype)     "
   ]
  },
  {
   "cell_type": "markdown",
   "metadata": {},
   "source": [
    "## Unary operations implemented as methods of the ndarray class"
   ]
  },
  {
   "cell_type": "code",
   "execution_count": null,
   "metadata": {},
   "outputs": [],
   "source": [
    "x = np.arange(10).reshape(2,5)   # 2 x 5 matrix\n",
    "print(x)\n",
    "x.sum()                          # sum of all elements\n",
    "print(x.sum(axis=0))             # sum of each column (across 1st dim)\n",
    "print(x.sum(axis=1))             # sum of each row (across 2nd dim)\n",
    "print(x.sum(0))                  # don't need the axis arg"
   ]
  },
  {
   "cell_type": "markdown",
   "metadata": {},
   "source": [
    "## Other common operations..."
   ]
  },
  {
   "cell_type": "code",
   "execution_count": 34,
   "metadata": {},
   "outputs": [
    {
     "name": "stdout",
     "output_type": "stream",
     "text": [
      "0.06822272936311713\n",
      "[0.14815481 0.06822273 0.06947405]\n",
      "[0.67889929 0.90323331 0.99303328 0.72304595 0.59507416 0.87682742\n",
      " 0.59264424 0.60410832 0.97743135 0.54648606 0.41588036 0.69937764]\n",
      "[[0.67889929 0.08418032 0.02688338]\n",
      " [0.90323331 0.79222417 0.6498233 ]\n",
      " [0.14815481 0.14712265 0.06643761]\n",
      " [0.72304595 0.37363277 0.02595778]\n",
      " [0.56088583 0.1168436  0.06953061]\n",
      " [0.6566178  0.39254638 0.34419543]\n",
      " [0.59264424 0.28991479 0.05282934]\n",
      " [0.60410832 0.26299528 0.15295896]\n",
      " [0.51254188 0.44343361 0.43342592]\n",
      " [0.54648606 0.03728277 0.01154322]\n",
      " [0.36542204 0.15197185 0.05655636]\n",
      " [0.56683675 0.39643295 0.22259211]]\n"
     ]
    },
    {
     "data": {
      "image/png": "[encoded data removed]",
      "text/plain": [
       "<Figure size 432x288 with 1 Axes>"
      ]
     },
     "metadata": {},
     "output_type": "display_data"
    }
   ],
   "source": [
    "x = np.random.rand(12,3)  \n",
    "print(x.min())           # min of entire matrix\n",
    "print(x.min(0))          # min across 1st dim\n",
    "print(x.max(1))          # max across 2nd dim\n",
    "print(x.cumprod(1))      # cumulative product across 2nd dim\n",
    "y = x.cumsum(0)          # cumulative sum across 1st dim\n",
    "\n",
    "r,c = y.shape\n",
    "fig, ax = plt.subplots()               # create subplot\n",
    "ax.plot(np.arange(r), y, 'r-', linewidth = 4)    \n",
    "\n",
    "# label each axis and give it a title\n",
    "ax.set(xlabel='count', ylabel='cumsum',\n",
    "       title='Cumulative sum down columns')\n",
    "\n",
    "plt.show() "
   ]
  },
  {
   "cell_type": "markdown",
   "metadata": {},
   "source": [
    "## Universal functions...sin, exp, corrcoef, etc"
   ]
  },
  {
   "cell_type": "code",
   "execution_count": 36,
   "metadata": {},
   "outputs": [
    {
     "name": "stdout",
     "output_type": "stream",
     "text": [
      "[1.00000000e+00 1.36389534e+00 1.86021050e+00 2.53713244e+00\n",
      " 3.46038312e+00 4.71960041e+00 6.43704102e+00 8.77945026e+00\n",
      " 1.19742513e+01 1.63316256e+01 2.22746281e+01 3.03802615e+01\n",
      " 4.14354971e+01 5.65136815e+01 7.70787469e+01 1.05127344e+02\n",
      " 1.43382695e+02 1.95558989e+02 2.66721994e+02 3.63780886e+02\n",
      " 4.96159055e+02 6.76709025e+02 9.22960286e+02 1.25882124e+03\n",
      " 1.71690042e+03 2.34167248e+03 3.19379619e+03 4.35600375e+03\n",
      " 5.94113322e+03 8.10308393e+03]\n",
      "[0.         0.55708601 0.7878386  0.96490128 1.11417203 1.2456822\n",
      " 1.36457648 1.47391105 1.57567719 1.67125804 1.76166066 1.84764529\n",
      " 1.92980256 2.00860219 2.084425   2.15758486 2.22834406 2.29692448\n",
      " 2.36351579 2.42828164 2.4913644  2.55288883 2.61296502 2.67169067\n",
      " 2.72915296 2.78543007 2.84059246 2.89470384 2.94782211 3.        ]\n",
      "[ 2.          2.62068966  3.24137931  3.86206897  4.48275862  5.10344828\n",
      "  5.72413793  6.34482759  6.96551724  7.5862069   8.20689655  8.82758621\n",
      "  9.44827586 10.06896552 10.68965517 11.31034483 11.93103448 12.55172414\n",
      " 13.17241379 13.79310345 14.4137931  15.03448276 15.65517241 16.27586207\n",
      " 16.89655172 17.51724138 18.13793103 18.75862069 19.37931034 20.        ]\n",
      "[[1.         0.80319521]\n",
      " [0.80319521 1.        ]]\n"
     ]
    },
    {
     "data": {
      "image/png": "[encoded data removed]",
      "text/plain": [
       "<Figure size 432x288 with 1 Axes>"
      ]
     },
     "metadata": {},
     "output_type": "display_data"
    }
   ],
   "source": [
    "N = 30\n",
    "x = np.linspace(0,9,N)\n",
    "\n",
    "print(np.exp(x))\n",
    "print(np.sqrt(x))\n",
    "print(np.add(x, x+2))                 # add two same-sized arrays\n",
    "y = x + np.random.randn(1,len(x))*3   # make a second vector x + some randn noise \n",
    "print(np.corrcoef(x, y))              # correlation matrix\n",
    "\n",
    "plt.scatter(x, y, s=50, c='green', alpha=1, label=\"X vs Y\")  # note alpha or transparency\n",
    "plt.xlabel(\"X\")\n",
    "plt.ylabel(\"Y\")\n",
    "plt.legend(loc=2)   # 1-4 for each corner of the plot\n",
    "plt.show()\n",
    "\n",
    "# all, any, apply_along_axis, argmax, argmin, argsort, average, ...\n",
    "# bincount, ceil, clip, conj, corrcoef, cov, cross, cumprod, cumsum, ...\n",
    "# diff, dot, floor, inner, inv, lexsort, max, maximum, mean, median, ...\n",
    "# min, minimum, nonzero, outer, prod, re, round, sort, std, sum, trace, ...\n",
    "# transpose, var, vdot, vectorize, where"
   ]
  },
  {
   "cell_type": "markdown",
   "metadata": {},
   "source": [
    "## Set logic...."
   ]
  },
  {
   "cell_type": "code",
   "execution_count": 47,
   "metadata": {},
   "outputs": [
    {
     "name": "stdout",
     "output_type": "stream",
     "text": [
      "[ 0  1  2  3  4  5  6  7  8  9 10 11 12 13 14 15 16 17 18 19]\n",
      "[ 0.  1.  2.  3.  4.  5.  6.  7.  8.  9. 10. 11. 12. 13. 14. 15. 16. 17.\n",
      " 18. 19. 20.]\n",
      "[ 0.  1.  2.  3.  4.  5.  6.  7.  8.  9. 10. 11. 12. 13. 14. 15. 16. 17.\n",
      " 18. 19. 20.]\n",
      "[ 0.  1.  2.  3.  4.  5.  6.  7.  8.  9. 10. 11. 12. 13. 14. 15. 16. 17.\n",
      " 18. 19.]\n",
      "[ 0.  1.  2.  3.  4.  5.  6.  7.  8.  9. 10. 11. 12. 13. 14. 15. 16. 17.\n",
      " 18. 19. 20.]\n"
     ]
    }
   ],
   "source": [
    "x = np.arange(20)\n",
    "y = np.linspace(0, 20, 21)\n",
    "print(x)\n",
    "print(y)\n",
    "\n",
    "z = np.union1d(x,y)\n",
    "print(z)\n",
    "\n",
    "z = np.intersect1d(x,y)\n",
    "print(z)\n",
    "\n",
    "z = np.unique([np.append(x,y)])\n",
    "print(z)"
   ]
  },
  {
   "cell_type": "markdown",
   "metadata": {},
   "source": [
    "## Shape manipulation"
   ]
  },
  {
   "cell_type": "code",
   "execution_count": null,
   "metadata": {
    "scrolled": true
   },
   "outputs": [],
   "source": [
    "x = np.round(np.random.randn(6,8)*5)   # generate some random data from N(0,5), then round \n",
    "\n",
    "# flatten the array - note that ravel produces a copy of the data\n",
    "y = x.ravel()   \n",
    "print('Shape of x: ', x.shape, '\\nShape of flattened x:', y.shape)  # newline example + multiple outputs...\n",
    "\n",
    "# there is also 'flatten', which is like ravel but creates a separate copy of teh data. \n",
    "\n",
    "# reshape\n",
    "x = x.reshape(12,4)   # 48 element array reshaped from a 6x8 to a 12x4\n",
    "\n",
    "# transpose - swap row/column\n",
    "print(x.T)\n",
    "print('Reshaped x: ', x.shape, '\\nReshaped x transposed: ', x.T.shape)"
   ]
  },
  {
   "cell_type": "markdown",
   "metadata": {},
   "source": [
    "## Concatenating arrays (stacking)"
   ]
  },
  {
   "cell_type": "code",
   "execution_count": null,
   "metadata": {},
   "outputs": [],
   "source": [
    "x = np.floor(np.random.rand(5,6)*10)\n",
    "y = np.ceil(np.random.rand(5,6)*2)\n",
    "\n",
    "# vertical stacking of arrays...will make a 10x6\n",
    "z = np.vstack((x,y))\n",
    "print('shape of z after vert stacking x,y: ', z.shape)\n",
    "\n",
    "# horizontal stacking of arrays...will make a 5x12\n",
    "z = np.hstack((x,y))\n",
    "print('shape of z after horizontal stacking x,y: ', z.shape)\n",
    "\n",
    "# concatenate allows stacking along specified dim\n",
    "z = np.concatenate((x,y),axis=0)   # vstack - stack rows on top of each other\n",
    "print('shape of z after vertical concat x,y: ', z.shape)\n",
    "\n",
    "z = np.concatenate((x,y),axis=1)   # hstack - stack columns next to each other\n",
    "print('shape of z after horizontal concat x,y: ', z.shape)\n",
    "\n",
    "# create arrays using r_ and c_\n",
    "x = np.r_[0:3,10,11]\n",
    "print('row concat using r_ ', x)"
   ]
  },
  {
   "cell_type": "markdown",
   "metadata": {},
   "source": [
    "## Copies and reasignments...this is important because failure to understand this can have unintended consequences "
   ]
  },
  {
   "cell_type": "code",
   "execution_count": 48,
   "metadata": {},
   "outputs": [
    {
     "data": {
      "text/plain": [
       "(3, 4)"
      ]
     },
     "execution_count": 48,
     "metadata": {},
     "output_type": "execute_result"
    }
   ],
   "source": [
    "x = np.arange(12)\n",
    "y = x            # creates another name for x\n",
    "y is x           # y and x are the same object\n",
    "\n",
    "y.shape = 3,4    # because y is another name for x, this changes shape of x\n",
    "x.shape          # now x is a different size...  "
   ]
  },
  {
   "cell_type": "markdown",
   "metadata": {},
   "source": [
    "## if you want to make a new object that looks at the same data but that is not simply a reference to the same object (i.e. create a new 'view' of the data)"
   ]
  },
  {
   "cell_type": "code",
   "execution_count": null,
   "metadata": {},
   "outputs": [],
   "source": [
    "x = np.linspace(0,9,10)\n",
    "\n",
    "y = x.view()\n",
    "\n",
    "print(y is x)        # no...\n",
    "\n",
    "print(y.base is x)   # yes, because looking at the same data. \n",
    "\n",
    "# so you can change the shape of y and not affect x\n",
    "y.shape = 2,5\n",
    "print('Shape of x: ', x.shape, ' Shape of y: ', y.shape)\n",
    "\n",
    "# but since the data is shared, changing data in y changes data in x\n",
    "y[0,0] = 1000\n",
    "print(x[0,])"
   ]
  },
  {
   "cell_type": "markdown",
   "metadata": {},
   "source": [
    "## Deep copy - make a complete copy of an array and its data...not just a view"
   ]
  },
  {
   "cell_type": "markdown",
   "metadata": {},
   "source": [
    "<div class=\"alert alert-warning\">\n",
    "changing the copy will NOT change the original...and this is often a very desirable feature!\n",
    "</div>"
   ]
  },
  {
   "cell_type": "code",
   "execution_count": null,
   "metadata": {},
   "outputs": [],
   "source": [
    "z = x.copy()\n",
    "print(z is x)       # not the same\n",
    "print(z.base is x)  # does not share the same data\n",
    "\n",
    "z[0] = -999         # since z is an independent copy, changing the data in z does not change x\n",
    "\n",
    "print(x)"
   ]
  }
 ],
 "metadata": {
  "kernelspec": {
   "display_name": "Python 3",
   "language": "python",
   "name": "python3"
  },
  "language_info": {
   "codemirror_mode": {
    "name": "ipython",
    "version": 3
   },
   "file_extension": ".py",
   "mimetype": "text/x-python",
   "name": "python",
   "nbconvert_exporter": "python",
   "pygments_lexer": "ipython3",
   "version": "3.6.5"
  }
 },
 "nbformat": 4,
 "nbformat_minor": 2
}
